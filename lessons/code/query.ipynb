{
 "cells": [
  {
   "cell_type": "markdown",
   "metadata": {},
   "source": [
    "## Query"
   ]
  },
  {
   "cell_type": "markdown",
   "metadata": {},
   "source": [
    "### Load the index"
   ]
  },
  {
   "cell_type": "code",
   "execution_count": null,
   "metadata": {},
   "outputs": [],
   "source": [
    "### Define the embedding\n",
    "from llama_index.embeddings.huggingface import HuggingFaceEmbedding\n",
    "embed_model = HuggingFaceEmbedding(model_name=\"BAAI/bge-m3\")"
   ]
  },
  {
   "cell_type": "code",
   "execution_count": 2,
   "metadata": {},
   "outputs": [],
   "source": [
    "### Load the index from Chroma\n",
    "import chromadb\n",
    "from llama_index.vector_stores.chroma import ChromaVectorStore\n",
    "from llama_index.core import VectorStoreIndex\n",
    "\n",
    "chroma_storage_path = \"./chroma_db\"\n",
    "chroma_collection_name = \"demo\"\n",
    "\n",
    "chroma_collection = chromadb.PersistentClient(path=chroma_storage_path)\\\n",
    "                            .get_or_create_collection(chroma_collection_name)\n",
    "vector_store = ChromaVectorStore(chroma_collection=chroma_collection)\n",
    "index = VectorStoreIndex.from_vector_store(\n",
    "    vector_store,\n",
    "    embed_model=embed_model,\n",
    ")"
   ]
  },
  {
   "cell_type": "markdown",
   "metadata": {},
   "source": [
    "### Retrieve"
   ]
  },
  {
   "cell_type": "code",
   "execution_count": null,
   "metadata": {},
   "outputs": [],
   "source": [
    "retriever = index.as_retriever()\n",
    "result = retriever.retrieve(\"NVIDIA 股價創新高，有什麼影響呢？\")\n",
    "result"
   ]
  },
  {
   "cell_type": "code",
   "execution_count": null,
   "metadata": {},
   "outputs": [],
   "source": [
    "result[0]"
   ]
  },
  {
   "cell_type": "code",
   "execution_count": 5,
   "metadata": {},
   "outputs": [
    {
     "data": {
      "text/plain": [
       "dict_keys(['node', 'score'])"
      ]
     },
     "execution_count": 5,
     "metadata": {},
     "output_type": "execute_result"
    }
   ],
   "source": [
    "result[0].__dict__.keys()"
   ]
  },
  {
   "cell_type": "code",
   "execution_count": 6,
   "metadata": {},
   "outputs": [
    {
     "data": {
      "text/plain": [
       "llama_index.core.schema.NodeWithScore"
      ]
     },
     "execution_count": 6,
     "metadata": {},
     "output_type": "execute_result"
    }
   ],
   "source": [
    "type(result[0])"
   ]
  },
  {
   "cell_type": "code",
   "execution_count": 7,
   "metadata": {},
   "outputs": [
    {
     "data": {
      "text/plain": [
       "[]"
      ]
     },
     "execution_count": 7,
     "metadata": {},
     "output_type": "execute_result"
    }
   ],
   "source": [
    "# Define metadata filters\n",
    "from llama_index.core.vector_stores import (\n",
    "    MetadataFilter,\n",
    "    MetadataFilters,\n",
    "    FilterOperator,\n",
    ")\n",
    "\n",
    "# Retrieve from vector store with filters\n",
    "filters = MetadataFilters(\n",
    "    filters=[\n",
    "        MetadataFilter(key=\"file_name\", value=\"techorange-2024-10-15.json\"),\n",
    "    ]\n",
    ")\n",
    "\n",
    "retriever = index.as_retriever(filters=filters)\n",
    "retriever.retrieve(\"NVIDIA 股價創新高，有什麼影響呢？\")"
   ]
  },
  {
   "cell_type": "code",
   "execution_count": 8,
   "metadata": {},
   "outputs": [
    {
     "data": {
      "text/plain": [
       "[]"
      ]
     },
     "execution_count": 8,
     "metadata": {},
     "output_type": "execute_result"
    }
   ],
   "source": [
    "# Multiple Metadata Filters with AND condition\n",
    "from llama_index.core.vector_stores import FilterOperator, FilterCondition\n",
    "filters = MetadataFilters(\n",
    "    filters=[\n",
    "        MetadataFilter(key=\"file_name\", value=\"techorange-2024-10-16.json\", operator=FilterOperator.EQ),\n",
    "        MetadataFilter(key=\"file_size\", value=48000, operator=FilterOperator.GT)\n",
    "    ],\n",
    "    condition=FilterCondition.AND,\n",
    ")\n",
    "\n",
    "retriever = index.as_retriever(filters=filters)\n",
    "retriever.retrieve(\"NVIDIA 股價創新高，有什麼影響呢？\")"
   ]
  },
  {
   "cell_type": "markdown",
   "metadata": {},
   "source": [
    "### Query"
   ]
  },
  {
   "cell_type": "code",
   "execution_count": 9,
   "metadata": {},
   "outputs": [],
   "source": [
    "### Use Ollama\n",
    "from llama_index.llms.ollama import Ollama\n",
    "llm = Ollama(model=\"llama3.2:3b\", request_timeout=600.0)"
   ]
  },
  {
   "cell_type": "code",
   "execution_count": 10,
   "metadata": {},
   "outputs": [],
   "source": [
    "query_engine = index.as_query_engine(llm=llm)\n",
    "response = query_engine.query(\"NVIDIA 股價創新高，有什麼影響呢？\")"
   ]
  },
  {
   "cell_type": "code",
   "execution_count": null,
   "metadata": {},
   "outputs": [],
   "source": [
    "response"
   ]
  },
  {
   "cell_type": "code",
   "execution_count": 12,
   "metadata": {},
   "outputs": [
    {
     "name": "stdout",
     "output_type": "stream",
     "text": [
      "Final Response: NVIDIA 股價創新高，推動公司的市值達到 3.39 兆美元，略低於 Apple 的 3.52 兆美元。\n"
     ]
    }
   ],
   "source": [
    "from llama_index.core.response.pprint_utils import pprint_response\n",
    "pprint_response(response)"
   ]
  },
  {
   "cell_type": "code",
   "execution_count": 13,
   "metadata": {},
   "outputs": [
    {
     "name": "stdout",
     "output_type": "stream",
     "text": [
      "Final Response: NVIDIA 股價創新高，推動公司的市值達到 3.39 兆美元，略低於 Apple 的 3.52 兆美元。\n",
      "______________________________________________________________________\n",
      "Source Node 1/2\n",
      "Node ID: ca1699d4-c90a-46ab-9871-71c479a296f7\n",
      "Similarity: 0.545276899564331\n",
      "Text: 人生成就感在於職場地位，最內捲國家...\n",
      "______________________________________________________________________\n",
      "Source Node 2/2\n",
      "Node ID: 7472913c-5bbe-404b-9b3e-ff40ae0b77a6\n",
      "Similarity: 0.5357347538915825\n",
      "Text: 儘管 NVIDIA 在八月確認其即...\n"
     ]
    }
   ],
   "source": [
    "from llama_index.core.response.pprint_utils import pprint_response\n",
    "pprint_response(response, source_length=20, show_source=True)"
   ]
  },
  {
   "cell_type": "code",
   "execution_count": null,
   "metadata": {},
   "outputs": [],
   "source": [
    "response.source_nodes[0]"
   ]
  },
  {
   "cell_type": "code",
   "execution_count": 15,
   "metadata": {},
   "outputs": [
    {
     "data": {
      "text/plain": [
       "0.545276899564331"
      ]
     },
     "execution_count": 15,
     "metadata": {},
     "output_type": "execute_result"
    }
   ],
   "source": [
    "response.source_nodes[0].score"
   ]
  },
  {
   "cell_type": "code",
   "execution_count": null,
   "metadata": {},
   "outputs": [],
   "source": [
    "%pip install -q matplotlib"
   ]
  },
  {
   "cell_type": "code",
   "execution_count": 17,
   "metadata": {},
   "outputs": [
    {
     "data": {
      "text/markdown": [
       "**Node ID:** ca1699d4-c90a-46ab-9871-71c479a296f7<br>**Similarity:** 0.545276899564331<br>**Text:** 人生成就感在於職場地位，最內捲國家前三名是他們\\n◆ 拿 500 萬存 0056，月領快 6 萬真能辦到？施昇輝：高息 ETF 這樣存「退休後放心花錢」\\n◆ 身價 4 億、年領 660 萬股息，88 歲神級散戶阿公卻說：只買高股息，遲早吃苦頭！6 大重點找出「會賺錢股票」\"\n",
       "    },\n",
       "    {\n",
       "        \"title\": \"NVIDIA 股價創新高 逼近取代 Apple 成為全球最具價值公司\",\n",
       "        \"content\": \"NVIDIA (NVDA.O) 的股價在週一以歷史最高價收盤，將這家 AI 芯片巨頭推向有望取代 Apple (AAPL.O) 成為全球最具價值公司的邊緣。隨著投資者對於其當前及下一代 AI 處理器的需求充滿信心，這家位於加州聖塔克拉拉的公司股價上漲了 2.4%，收於 138.07 美元。\\n早在六月，NVIDIA 一度成為全球最具價值的公司，但隨後被微軟超越。近幾個月來，這三大科技巨頭的市值一直相差無幾。最新的漲幅使 NVIDIA 的市值達到 3.39 兆美元，略低於 Apple 的 3.52 兆美元，且高於微軟的 3.12 兆美元。\\n在 Alphabet (GOOGL.O)、微軟、亞馬遜 (AMZN.O) 等主要科技公司競逐新興 AI 技術的賽事中，NVIDIA 成為華爾街最大的贏家。TD Cowen 分析師在週日的報告中表示：「我們認為，AI 領域的主要公司面臨的投資環境特徵類似於囚徒困境——每家公司都受到個人利益的驅動，繼續投入資金，否則將面臨潛在的毀滅性後果。」\\nTD Cowen 重申了對 NVIDIA 的 165 美元價格目標，稱其為「最佳選擇」，並指出該公司當前世代 AI 芯片的需求依然強勁。儘管 NVIDIA 在八月確認其即將推出的 Blackwell 芯片的生產提升將推遲至第四季，但公司淡化了此消息的影響，表示客戶仍在大量採購現有的芯片。\\n隨著投資者準備迎接季度財報季，Apple 股價上漲近 2%，微軟則上漲 0.7%，推動標準普爾 500 指數 (.SPX) 上漲 0.8%，創下新高。<br>"
      ],
      "text/plain": [
       "<IPython.core.display.Markdown object>"
      ]
     },
     "metadata": {},
     "output_type": "display_data"
    },
    {
     "data": {
      "text/markdown": [
       "**Node ID:** 7472913c-5bbe-404b-9b3e-ff40ae0b77a6<br>**Similarity:** 0.5357347538915825<br>**Text:** 儘管 NVIDIA 在八月確認其即將推出的 Blackwell 芯片的生產提升將推遲至第四季，但公司淡化了此消息的影響，表示客戶仍在大量採購現有的芯片。\\n隨著投資者準備迎接季度財報季，Apple 股價上漲近 2%，微軟則上漲 0.7%，推動標準普爾 500 指數 (.SPX) 上漲 0.8%，創下新高。NVIDIA、Apple 和微軟合計約占標準普爾 500 指數的五分之一，對指數的日常漲跌具有重大影響。\\n台灣半導體製造公司 (2330.TW) 作為 NVIDIA 的合同生產商，預計將於週四報告季度利潤增長 40%，這得益於需求激增。根據 LSEG 的數據，分析師預計，AI 數據中心的擴建支出將使 NVIDIA 年度收入超過 1260 億美元，增長超過一倍。\\n儘管 NVIDIA 的漲勢將標準普爾 500 指數推向歷史新高，但投資者仍擔心，若出現 AI 技術支出減少的跡象，樂觀情緒可能會迅速消退。\\n本文開放合作夥伴轉載。資料來源：《Reuters》，首圖來源：Unsplash。\"\n",
       "    },\n",
       "    {\n",
       "        \"title\": \"Netflix 用戶增長放緩，廣告收入成未來關鍵\",\n",
       "        \"content\": \"Netflix 預計在本週四公布其六個季度以來最慢的用戶增長，這主要歸因於打擊共享密碼措施的效益逐漸減弱。分析師估計，Netflix 在 7 月至 9 月間新增了 400 萬用戶，包括原創影集《The Accident》及《The Perfect Couple》為美國熱播作品。然而，隨著用戶增長放緩，Netflix 開始將投資者的焦點轉向收入成長和利潤率，並計畫自 2025 年起停止公布訂閱數據。\\n該公司目前的廣告支持方案正在成長，但預期不會在 2026 年之前成為主要的成長動力。eMarketer 的 Ross Benes 表示，Netflix 在美國的廣告收入每年不到 10 億美元，這對他們的形象來說並不樂觀。一些分析師認為，Netflix 可能需要提高價格，並逐步取消更多無廣告方案，以促使更多用戶選擇廣告支持方案，因為這通常能為公司帶來更高的每用戶收入。\\nNetflix 早在去年 7 月便宣布停止向美國和英國新用戶提供每月 9.<br>"
      ],
      "text/plain": [
       "<IPython.core.display.Markdown object>"
      ]
     },
     "metadata": {},
     "output_type": "display_data"
    }
   ],
   "source": [
    "from llama_index.core.response.notebook_utils import display_source_node\n",
    "\n",
    "retriever = index.as_retriever(similarity_top_k=2)\n",
    "retrieved_nodes = retriever.retrieve(\"NVIDIA 股價創新高，有什麼影響呢？\")\n",
    "\n",
    "for node in retrieved_nodes:\n",
    "    display_source_node(node, source_length=1000)"
   ]
  },
  {
   "cell_type": "markdown",
   "metadata": {},
   "source": [
    "### Prompt"
   ]
  },
  {
   "cell_type": "code",
   "execution_count": 20,
   "metadata": {},
   "outputs": [
    {
     "name": "stdout",
     "output_type": "stream",
     "text": [
      "😊\n",
      "\n",
      "蘋果公司在其策略上做出了以下改變：\n",
      "\n",
      "1.  不再遵守每年的升級週期，改为更 flexiable 的更新方式。\n",
      "2.  转移注意力至智慧家庭市场，以对抗 Google 和 Amazon。\n",
      "3.  对于智慧眼镜（Vision Pro）的推出时间提前了一段时间。\n",
      "4.  Shift 到关注整体产品生命周期，而非每年的更新版本。\n"
     ]
    }
   ],
   "source": [
    "query = \"\"\"\n",
    "    請用一個開心的表情符號開頭，告訴我蘋果公司的策略做了什麼改變？條列式列點回應並用繁體中文回答\n",
    "\"\"\"\n",
    "response = query_engine.query(query)\n",
    "print(response)"
   ]
  }
 ],
 "metadata": {
  "kernelspec": {
   "display_name": "Python 3.11.7 ('venv': venv)",
   "language": "python",
   "name": "python3"
  },
  "language_info": {
   "codemirror_mode": {
    "name": "ipython",
    "version": 3
   },
   "file_extension": ".py",
   "mimetype": "text/x-python",
   "name": "python",
   "nbconvert_exporter": "python",
   "pygments_lexer": "ipython3",
   "version": "3.11.7"
  },
  "orig_nbformat": 4,
  "vscode": {
   "interpreter": {
    "hash": "b84dcaefd5fa636f09b139b333fa7f16c37fa121b6c753c747a42c472c0b7eab"
   }
  }
 },
 "nbformat": 4,
 "nbformat_minor": 2
}
