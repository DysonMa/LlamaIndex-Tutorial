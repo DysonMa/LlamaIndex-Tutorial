{
 "cells": [
  {
   "cell_type": "markdown",
   "metadata": {},
   "source": [
    "# Document/Nodes\n",
    "\n",
    "- Document: \n",
    "   \n",
    "   A Document is a generic container around any data source - for instance, a PDF, an API output, or retrieved data from a database. They can be constructed manually, or created automatically via our data loaders\n",
    "\n",
    "- Node:\n",
    "   \n",
    "   A Node represents a \"chunk\" of a source Document, whether that is a text chunk, an image, or other."
   ]
  },
  {
   "cell_type": "markdown",
   "metadata": {},
   "source": [
    "## Document"
   ]
  },
  {
   "cell_type": "markdown",
   "metadata": {},
   "source": [
    "### By built-in example"
   ]
  },
  {
   "cell_type": "code",
   "execution_count": 1,
   "metadata": {},
   "outputs": [],
   "source": [
    "from llama_index.core import Document, VectorStoreIndex\n",
    "from IPython.display import display, Markdown"
   ]
  },
  {
   "cell_type": "code",
   "execution_count": 2,
   "metadata": {},
   "outputs": [
    {
     "data": {
      "text/plain": [
       "Document(id_='9163241c-dea3-4312-80c7-7f73e1f3e2ac', embedding=None, metadata={'filename': 'README.md', 'category': 'codebase'}, excluded_embed_metadata_keys=[], excluded_llm_metadata_keys=[], relationships={}, metadata_template='{key}: {value}', metadata_separator='\\n', text_resource=MediaResource(embeddings=None, data=None, text='\\nContext\\nLLMs are a phenomenal piece of technology for knowledge generation and reasoning.\\nThey are pre-trained on large amounts of publicly available data.\\nHow do we best augment LLMs with our own private data?\\nWe need a comprehensive toolkit to help perform this data augmentation for LLMs.\\n\\nProposed Solution\\nThat\\'s where LlamaIndex comes in. LlamaIndex is a \"data framework\" to help\\nyou build LLM  apps. It provides the following tools:\\n\\nOffers data connectors to ingest your existing data sources and data formats\\n(APIs, PDFs, docs, SQL, etc.)\\nProvides ways to structure your data (indices, graphs) so that this data can be\\neasily used with LLMs.\\nProvides an advanced retrieval/query interface over your data:\\nFeed in any LLM input prompt, get back retrieved context and knowledge-augmented output.\\nAllows easy integrations with your outer application framework\\n(e.g. with LangChain, Flask, Docker, ChatGPT, anything else).\\nLlamaIndex provides tools for both beginner users and advanced users.\\nOur high-level API allows beginner users to use LlamaIndex to ingest and\\nquery their data in 5 lines of code. Our lower-level APIs allow advanced users to\\ncustomize and extend any module (data connectors, indices, retrievers, query engines,\\nreranking modules), to fit their needs.\\n', mimetype=None, path=None, url=None), image_resource=None, audio_resource=None, video_resource=None, text_template='{metadata_str}\\n\\n{content}')"
      ]
     },
     "execution_count": 2,
     "metadata": {},
     "output_type": "execute_result"
    }
   ],
   "source": [
    "example = Document.example()\n",
    "example"
   ]
  },
  {
   "cell_type": "code",
   "execution_count": 3,
   "metadata": {},
   "outputs": [
    {
     "data": {
      "text/plain": [
       "'Context\\nLLMs are a phenomenal piece of technology for knowledge generation and reasoning.\\nThey are pre-trained on large amounts of publicly available data.\\nHow do we best augment LLMs with our own private data?\\nWe need a comprehensive toolkit to help perform this data augmentation for LLMs.\\n\\nProposed Solution\\nThat\\'s where LlamaIndex comes in. LlamaIndex is a \"data framework\" to help\\nyou build LLM  apps. It provides the following tools:\\n\\nOffers data connectors to ingest your existing data sources and data formats\\n(APIs, PDFs, docs, SQL, etc.)\\nProvides ways to structure your data (indices, graphs) so that this data can be\\neasily used with LLMs.\\nProvides an advanced retrieval/query interface over your data:\\nFeed in any LLM input prompt, get back retrieved context and knowledge-augmented output.\\nAllows easy integrations with your outer application framework\\n(e.g. with LangChain, Flask, Docker, ChatGPT, anything else).\\nLlamaIndex provides tools for both beginner users and advanced users.\\nOur high-level API allows beginner users to use LlamaIndex to ingest and\\nquery their data in 5 lines of code. Our lower-level APIs allow advanced users to\\ncustomize and extend any module (data connectors, indices, retrievers, query engines,\\nreranking modules), to fit their needs.'"
      ]
     },
     "execution_count": 3,
     "metadata": {},
     "output_type": "execute_result"
    }
   ],
   "source": [
    "content = example.get_content()\n",
    "content"
   ]
  },
  {
   "cell_type": "code",
   "execution_count": 4,
   "metadata": {},
   "outputs": [
    {
     "data": {
      "text/markdown": [
       "Context\n",
       "LLMs are a phenomenal piece of technology for knowledge generation and reasoning.\n",
       "They are pre-trained on large amounts of publicly available data.\n",
       "How do we best augment LLMs with our own private data?\n",
       "We need a comprehensive toolkit to help perform this data augmentation for LLMs.\n",
       "\n",
       "Proposed Solution\n",
       "That's where LlamaIndex comes in. LlamaIndex is a \"data framework\" to help\n",
       "you build LLM  apps. It provides the following tools:\n",
       "\n",
       "Offers data connectors to ingest your existing data sources and data formats\n",
       "(APIs, PDFs, docs, SQL, etc.)\n",
       "Provides ways to structure your data (indices, graphs) so that this data can be\n",
       "easily used with LLMs.\n",
       "Provides an advanced retrieval/query interface over your data:\n",
       "Feed in any LLM input prompt, get back retrieved context and knowledge-augmented output.\n",
       "Allows easy integrations with your outer application framework\n",
       "(e.g. with LangChain, Flask, Docker, ChatGPT, anything else).\n",
       "LlamaIndex provides tools for both beginner users and advanced users.\n",
       "Our high-level API allows beginner users to use LlamaIndex to ingest and\n",
       "query their data in 5 lines of code. Our lower-level APIs allow advanced users to\n",
       "customize and extend any module (data connectors, indices, retrievers, query engines,\n",
       "reranking modules), to fit their needs."
      ],
      "text/plain": [
       "<IPython.core.display.Markdown object>"
      ]
     },
     "metadata": {},
     "output_type": "display_data"
    }
   ],
   "source": [
    "display(Markdown(content))"
   ]
  },
  {
   "cell_type": "markdown",
   "metadata": {},
   "source": [
    "### Manaully create document"
   ]
  },
  {
   "cell_type": "code",
   "execution_count": 5,
   "metadata": {},
   "outputs": [],
   "source": [
    "documents = [\n",
    "    Document(text=\"庭院深深深幾許\", metadata={\"file_name\": \"mathbook.txt\"}),\n",
    "    Document(text=\"哈囉你好嗎\", metadata={\"file_name\": \"song.md\"})\n",
    "]"
   ]
  },
  {
   "cell_type": "code",
   "execution_count": 6,
   "metadata": {},
   "outputs": [
    {
     "data": {
      "text/plain": [
       "Document(id_='98e0f3e6-30ac-412e-bb28-68d535b0a7c6', embedding=None, metadata={'file_name': 'mathbook.txt'}, excluded_embed_metadata_keys=[], excluded_llm_metadata_keys=[], relationships={}, metadata_template='{key}: {value}', metadata_separator='\\n', text_resource=MediaResource(embeddings=None, data=None, text='庭院深深深幾許', mimetype=None, path=None, url=None), image_resource=None, audio_resource=None, video_resource=None, text_template='{metadata_str}\\n\\n{content}')"
      ]
     },
     "execution_count": 6,
     "metadata": {},
     "output_type": "execute_result"
    }
   ],
   "source": [
    "documents[0]"
   ]
  },
  {
   "cell_type": "code",
   "execution_count": 7,
   "metadata": {},
   "outputs": [
    {
     "data": {
      "text/plain": [
       "'庭院深深深幾許'"
      ]
     },
     "execution_count": 7,
     "metadata": {},
     "output_type": "execute_result"
    }
   ],
   "source": [
    "documents[0].get_content()  # Default `get_content` function does not include metadata"
   ]
  },
  {
   "cell_type": "markdown",
   "metadata": {},
   "source": [
    "### How to use metadata?"
   ]
  },
  {
   "cell_type": "code",
   "execution_count": 8,
   "metadata": {},
   "outputs": [
    {
     "data": {
      "text/plain": [
       "'file_name: mathbook.txt\\n\\n庭院深深深幾許'"
      ]
     },
     "execution_count": 8,
     "metadata": {},
     "output_type": "execute_result"
    }
   ],
   "source": [
    "# Get the content with metadata\n",
    "from llama_index.core.schema import MetadataMode\n",
    "documents[0].get_content(metadata_mode=MetadataMode.ALL)"
   ]
  },
  {
   "cell_type": "code",
   "execution_count": 9,
   "metadata": {},
   "outputs": [
    {
     "name": "stdout",
     "output_type": "stream",
     "text": [
      "庭院深深深幾許\n",
      "庭院深深深幾許\n"
     ]
    }
   ],
   "source": [
    "# set excludes metadata keys for both embed and llm\n",
    "documents[0].excluded_embed_metadata_keys=[\"file_name\"]\n",
    "documents[0].excluded_llm_metadata_keys=[\"file_name\"]\n",
    "\n",
    "# Test the content during embed and llm\n",
    "print(documents[0].get_content(metadata_mode=MetadataMode.EMBED))\n",
    "print(documents[0].get_content(metadata_mode=MetadataMode.LLM))"
   ]
  },
  {
   "cell_type": "markdown",
   "metadata": {},
   "source": [
    "## Node"
   ]
  },
  {
   "cell_type": "markdown",
   "metadata": {},
   "source": [
    "### Node Parser (JSON data)"
   ]
  },
  {
   "cell_type": "code",
   "execution_count": 10,
   "metadata": {},
   "outputs": [],
   "source": [
    "from llama_index.core import SimpleDirectoryReader\n",
    "documents = SimpleDirectoryReader(input_dir=\"../data/json/\").load_data()"
   ]
  },
  {
   "cell_type": "code",
   "execution_count": 11,
   "metadata": {},
   "outputs": [
    {
     "data": {
      "text/plain": [
       "1"
      ]
     },
     "execution_count": 11,
     "metadata": {},
     "output_type": "execute_result"
    }
   ],
   "source": [
    "len(documents)"
   ]
  },
  {
   "cell_type": "code",
   "execution_count": 12,
   "metadata": {},
   "outputs": [],
   "source": [
    "from llama_index.core.node_parser import JSONNodeParser\n",
    "json_parser = JSONNodeParser()\n",
    "nodes = json_parser.get_nodes_from_documents(documents)"
   ]
  },
  {
   "cell_type": "code",
   "execution_count": 13,
   "metadata": {},
   "outputs": [
    {
     "data": {
      "text/plain": [
       "10"
      ]
     },
     "execution_count": 13,
     "metadata": {},
     "output_type": "execute_result"
    }
   ],
   "source": [
    "len(nodes)"
   ]
  },
  {
   "cell_type": "code",
   "execution_count": 14,
   "metadata": {},
   "outputs": [
    {
     "data": {
      "text/plain": [
       "'title 【台灣陷入尷尬處境】半導體耗電量狂飆又得淨零轉型，核電會是最佳解？\\ncontent 台灣企業滿足了全球高達 68% 的晶片製造供應，隨之而來的是大量能源需求——根據綠色和平組織的預測，2030 年台灣半導體製造產業之耗電量，將會相當於 2021 年紐西蘭全島的耗電量的兩倍，其中將有 82% 的需求來自台積電。\\n台灣為何陷入能源危機、與淨零目標遙遙無期？\\nAI 時代用電激增，台灣卻在此時面臨牽涉到國安、氣候、政治挑戰的能源困境：台灣全島有高達 9 成的用電量靠的是進口石化燃料；兩岸情勢也持續緊繃，台灣必須面對來自中國的經濟封鎖、國際孤立，甚或武力入侵威脅；而出於政治考量，執政黨主張在 2025 年前告別核電，打造「非核家園」，並在同一年達成「燃煤發電 30%、天然氣發電 50%、再生能源 20%」的能源結構目標。\\n再者，政府還訂立野心勃勃的潔淨能源目標，包含遵循巴黎協議，2030 年台灣將減碳 23%，並在 2050 年前達成淨零碳排；私部門方面，包含台積電在內的多家大廠，都簽署了 RE100 全球再生能源倡議，承諾於 2050 年前採用 100％ 綠電。\\n目前看來，沒有任何一絲達標跡象，現實和理想之間尚存在著難以跨越的鴻溝。\\n台灣現行能源結構十分脆弱，極度仰賴進口\\n根據經濟部統計，去年台灣有 83% 的用電需求仰賴石化燃料，其中煤炭發電佔 42%、天然氣佔 40%、石油佔 1%，另外核能佔 6%，而太陽能、風力、水力、生質能發電加總起來也才佔 10%。\\n這樣的能源供應系統極不穩定，因為燃料進口隨時面臨到國際價格波動或中國封鎖的風險；即便台灣政府能出手調整電價，卻也造成台電債台高築，而一旦中國海軍封鎖台灣海峽，台灣島約只有 6 週的煤炭儲備量，以及約 1 週的液化天然氣儲備量。\\n縱使上述風險都尚未發生，今年台灣發電的備轉容量已多次掉到 5%（理想的系統備轉容量為 25%），且在過去 8 年內，就發生過 4 次大規模跳電，限電情況也不少見，在在顯示出台灣供電困境亟待解決。\\n再生能源為何進展緩慢？專家警告外資出走可能性\\n由於台灣國土面積小且山地多，太陽能發電面臨土地取得不易的限制。離岸風電雖大有潛力，但近年受到政府欲扶植在地產業發展的政策限制，只能運用 MIT 產品和聘用台灣勞工，礙於技術落差，造成不必要的成本支出與工程延宕；另一方面，港口腹地小、風力發電機直接位於中國飛彈射程範圍內，海底電纜在軍事衝突中高度脆弱，這些都構成台灣再生能源之發展困境。\\nNicholas Chen 是一位長期研究台灣氣候與能源政策的律師，他認為台灣必須為潔淨能源的發展路徑做出大幅調整，否則可能將面臨外資出走的危機——有越來越多企業需要淨零排放的生產環境，以滿足如亞馬遜、Meta、Google 等合作夥伴的淨零承諾，同時避免碳排相關的貿易壁壘，例如歐盟的碳邊境調整機制（CBAM）。（編按：Google、AWS、微軟目前皆有在台灣設立資料中心。）\\n核電重啟再掀討論，但是否為最佳解？\\n針對當前的能源危機，經濟部能源署副署長吳志偉表示：「立法院裡的辯論還在持續，因為社會大眾既渴望非核家園被逐步實現，又想看到碳排量減少，因此開始有人探討當其他條件齊備，關閉的核電廠是否有重啟的可能性。」\\n為此，Nicholas Chen 指出「唯有核能才是可擴展的再生能源」，科技部顧問 Peter Kurz 則進一步指出，台灣的能源困境需要跳脫框架的解決方案，有鑑於海底電纜的脆弱性，且核能電廠容易受地震威脅，另一項執政黨可能考慮的做法，是能離岸運作的小型模組化的核反應爐。\\n話雖如此，一項史丹佛大學的研究發現，小型核反應爐將使核廢料處置更加棘手。該研究測試了三座反應爐，發現所造成的放射物質「鈽」，其一萬年後的放射性將比傳統核電廠高 50% 以上。\\n台灣作為全球最大的先進晶片製造國，國內電力供不應求，高度仰賴進口燃料，即將關閉最後一座核電廠，再生能源發展又遲緩，朝野如何協商出妥善的應對措施，確保能源供應穩定，已是刻不容緩的議題。\\n【推薦閱讀】\\n◆ 【碳費上路】全國徵收對象達 500 家！政府打算怎麼使用收到的 60 億？\\n◆ 改善工業能源效率從何做起？報告揭 3 大行動每年全球一起省下 2 兆美元\\n◆ WEF 「燈塔工廠」公布！鴻海揭拿下 2 座燈塔工廠背後關鍵技術\\n＊本文開放合作夥伴轉載，參考資料：《Yale Environment 360》、Stanford，首圖來源：Shutterstock。\\n（責任編輯：廖紹伶）'"
      ]
     },
     "execution_count": 14,
     "metadata": {},
     "output_type": "execute_result"
    }
   ],
   "source": [
    "nodes[0].get_content()"
   ]
  },
  {
   "cell_type": "markdown",
   "metadata": {},
   "source": [
    "### Node Parser (HTML Data)"
   ]
  },
  {
   "cell_type": "code",
   "execution_count": 15,
   "metadata": {},
   "outputs": [],
   "source": [
    "from llama_index.core import SimpleDirectoryReader\n",
    "documents = SimpleDirectoryReader(input_dir=\"../data/html/\").load_data()"
   ]
  },
  {
   "cell_type": "code",
   "execution_count": 16,
   "metadata": {},
   "outputs": [
    {
     "name": "stdout",
     "output_type": "stream",
     "text": [
      "\n",
      "\u001b[1m[\u001b[0m\u001b[34;49mnotice\u001b[0m\u001b[1;39;49m]\u001b[0m\u001b[39;49m A new release of pip is available: \u001b[0m\u001b[31;49m23.2.1\u001b[0m\u001b[39;49m -> \u001b[0m\u001b[32;49m24.3.1\u001b[0m\n",
      "\u001b[1m[\u001b[0m\u001b[34;49mnotice\u001b[0m\u001b[1;39;49m]\u001b[0m\u001b[39;49m To update, run: \u001b[0m\u001b[32;49mpip install --upgrade pip\u001b[0m\n",
      "Note: you may need to restart the kernel to use updated packages.\n"
     ]
    }
   ],
   "source": [
    "%pip install -q bs4"
   ]
  },
  {
   "cell_type": "code",
   "execution_count": 17,
   "metadata": {},
   "outputs": [
    {
     "data": {
      "text/plain": [
       "3"
      ]
     },
     "execution_count": 17,
     "metadata": {},
     "output_type": "execute_result"
    }
   ],
   "source": [
    "from llama_index.core.node_parser import HTMLNodeParser\n",
    "html_parser = HTMLNodeParser()\n",
    "# DEFAULT_TAGS = [\"p\", \"h1\", \"h2\", \"h3\", \"h4\", \"h5\", \"h6\", \"li\", \"b\", \"i\", \"u\", \"section\"]\n",
    "nodes = html_parser.get_nodes_from_documents(documents)\n",
    "len(nodes)"
   ]
  },
  {
   "cell_type": "code",
   "execution_count": 18,
   "metadata": {},
   "outputs": [
    {
     "name": "stdout",
     "output_type": "stream",
     "text": [
      "Welcome to My Webpage\n",
      "This is a simple HTML example with some basic styling.\n",
      "Visit\n",
      "Example.com\n",
      "to\n",
      "      learn more.\n",
      "HTML\n",
      "CSS\n",
      "JavaScript\n"
     ]
    }
   ],
   "source": [
    "for each in nodes:\n",
    "    print(each.get_content())"
   ]
  },
  {
   "cell_type": "markdown",
   "metadata": {},
   "source": [
    "### Node Parser (Markdown data)"
   ]
  },
  {
   "cell_type": "code",
   "execution_count": 19,
   "metadata": {},
   "outputs": [],
   "source": [
    "from llama_index.core import SimpleDirectoryReader\n",
    "documents = SimpleDirectoryReader(input_dir=\"../data/markdown/\").load_data()"
   ]
  },
  {
   "cell_type": "code",
   "execution_count": 20,
   "metadata": {},
   "outputs": [
    {
     "name": "stdout",
     "output_type": "stream",
     "text": [
      "1\n"
     ]
    }
   ],
   "source": [
    "from llama_index.core.node_parser import MarkdownNodeParser\n",
    "md_parser = MarkdownNodeParser()\n",
    "nodes = md_parser.get_nodes_from_documents(documents)\n",
    "print(len(nodes))"
   ]
  },
  {
   "cell_type": "code",
   "execution_count": 21,
   "metadata": {},
   "outputs": [
    {
     "data": {
      "text/plain": [
       "'🐍 Python 簡單語法筆記\\n\\n1. 變數與資料型別\\n\\n   Python 是一個動態型別語言，無需明確聲明變數型別。\\n\\n```python\\n# 整數\\nx = 10\\n\\n# 浮點數\\ny = 3.14\\n\\n# 字串\\nname = \"Alice\"\\n\\n# 布林值\\nis_active = True\\n```\\n\\n2. 基本運算\\n\\n   Python 支援常見的數學運算，並使用簡單的符號來表示。\\n\\n```python\\n# 加法\\nresult = 5 + 3 # 8\\n\\n# 減法\\nresult = 10 - 7 # 3\\n\\n# 乘法\\nresult = 4 \\\\* 2 # 8\\n\\n# 除法\\nresult = 10 / 2 # 5.0 (浮點數結果)\\n\\n# 次方\\nresult = 2 \\\\*\\\\* 3 # 8\\n```\\n\\n3. 條件判斷\\n\\n   使用 if、elif 和 else 來進行條件判斷。\\n\\n```python\\nage = 18\\n\\nif age >= 18:\\nprint(\"成人\")\\nelif age > 12:\\nprint(\"青少年\")\\nelse:\\nprint(\"兒童\")\\n```\\n\\n4. 迴圈\\n\\n   Python 有兩種主要的迴圈：for 和 while。\\n\\n- for 迴圈\\n\\n  ```python\\n  # 列印 1 到 5\\n  for i in range(1, 6):\\n  print(i)\\n  ```\\n\\n- while 迴圈\\n\\n  ```python\\n  # 列印直到條件為假\\n  count = 0\\n  while count < 5:\\n  print(count)\\n  count += 1\\n  ```\\n\\n5. 函式\\n\\n使用 def 關鍵字來定義函式\\n\\n```python\\ndef greet(name):\\nreturn f\"Hello, {name}!\"\\n\\n# 呼叫函式\\nmessage = greet(\"Alice\")\\nprint(message) # Hello, Alice!\\n```\\n\\n6. 清單與迭代\\n\\n   清單是 Python 中的基本資料結構，可以存放多個元素。\\n\\n```python\\n# 定義清單\\nfruits = [\"蘋果\", \"香蕉\", \"橘子\"]\\n\\n# 迭代清單\\nfor fruit in fruits:\\nprint(fruit)\\n```\\n\\n7. 字典\\n\\n   字典是由鍵值對組成的資料結構。\\n\\n```python\\n# 定義字典\\nperson = {\\n    \"name\": \"Alice\",\\n    \"age\": 25,\\n    \"city\": \"Taipei\"\\n}\\n\\n# 訪問字典元素\\nprint(person[\"name\"]) # Alice\\n```\\n\\n8. 異常處理\\n\\n   使用 try-except 來處理可能出現的錯誤。\\n\\n```python\\ntry:\\nresult = 10 / 0\\nexcept ZeroDivisionError:\\nprint(\"除以 0 的錯誤！\")\\n```\\n\\n這些是 Python 的一些基礎語法，適合初學者快速入門。如果要深入學習，可以進一步探討物件導向、模組與套件等進階概念。'"
      ]
     },
     "execution_count": 21,
     "metadata": {},
     "output_type": "execute_result"
    }
   ],
   "source": [
    "nodes[0].get_content()"
   ]
  },
  {
   "cell_type": "markdown",
   "metadata": {},
   "source": [
    "### Node Parser (SimpleFileNodeParser-No matter file type)"
   ]
  },
  {
   "cell_type": "code",
   "execution_count": 22,
   "metadata": {},
   "outputs": [],
   "source": [
    "documents = [\n",
    "    *SimpleDirectoryReader(input_dir=\"../data/json/\").load_data(),\n",
    "    *SimpleDirectoryReader(input_dir=\"../data/html/\").load_data(),\n",
    "    *SimpleDirectoryReader(input_dir=\"../data/markdown/\").load_data()\n",
    "]"
   ]
  },
  {
   "cell_type": "code",
   "execution_count": 23,
   "metadata": {},
   "outputs": [
    {
     "data": {
      "text/plain": [
       "3"
      ]
     },
     "execution_count": 23,
     "metadata": {},
     "output_type": "execute_result"
    }
   ],
   "source": [
    "len(documents)"
   ]
  },
  {
   "cell_type": "code",
   "execution_count": 24,
   "metadata": {},
   "outputs": [],
   "source": [
    "from llama_index.core.node_parser import SimpleFileNodeParser\n",
    "parser = SimpleFileNodeParser()\n",
    "nodes = parser.get_nodes_from_documents(documents)"
   ]
  },
  {
   "cell_type": "code",
   "execution_count": 25,
   "metadata": {},
   "outputs": [
    {
     "data": {
      "text/plain": [
       "3"
      ]
     },
     "execution_count": 25,
     "metadata": {},
     "output_type": "execute_result"
    }
   ],
   "source": [
    "len(nodes)"
   ]
  },
  {
   "cell_type": "markdown",
   "metadata": {},
   "source": [
    "### Splitter (SenstenceSplitter)"
   ]
  },
  {
   "cell_type": "code",
   "execution_count": 26,
   "metadata": {},
   "outputs": [],
   "source": [
    "documents = [\n",
    "    Document(text=\"在今年備受矚目的 NBA 總冠軍賽中，洛杉磯湖人隊以驚險的表現擊敗了波士頓塞爾提克隊，\\\n",
    "        成功捧起隊史第 18 座總冠軍獎杯，刷新聯盟歷史記錄。系列賽中，LeBron James 和 Anthony Davis \\\n",
    "        持續展現頂尖表現，尤其在關鍵的第七場比賽中，LeBron 在最後三秒投中致勝球，成為球隊奪冠的最大功臣。\\\n",
    "        儘管塞爾提克隊的年輕核心 Jayson Tatum 和 Jaylen Brown 表現出色，但最終無法逆轉湖人隊的\\\n",
    "        全面優勢。這場史詩般的對決不僅展現了雙方球員的技術與韌性，也為球迷留下了無數經典瞬間，\\\n",
    "        成為 NBA 歷史上的又一里程碑\")\n",
    "]"
   ]
  },
  {
   "cell_type": "code",
   "execution_count": 27,
   "metadata": {},
   "outputs": [],
   "source": [
    "from llama_index.core.node_parser import SentenceSplitter\n",
    "# Default chunk_size is 1024, chunk_overlap is 200\n",
    "# Be aware that the chunk_overlap cannot larger than chunk_size\n",
    "splitter = SentenceSplitter(chunk_size=100, chunk_overlap=20)\n",
    "nodes = splitter.get_nodes_from_documents(documents)"
   ]
  },
  {
   "cell_type": "code",
   "execution_count": 28,
   "metadata": {},
   "outputs": [
    {
     "data": {
      "text/plain": [
       "5"
      ]
     },
     "execution_count": 28,
     "metadata": {},
     "output_type": "execute_result"
    }
   ],
   "source": [
    "len(nodes)"
   ]
  },
  {
   "cell_type": "code",
   "execution_count": 29,
   "metadata": {},
   "outputs": [
    {
     "data": {
      "text/plain": [
       "'在今年備受矚目的 NBA 總冠軍賽中，洛杉磯湖人隊以驚險的表現擊敗了波士頓塞爾提克隊，        成功捧起隊史第 18'"
      ]
     },
     "execution_count": 29,
     "metadata": {},
     "output_type": "execute_result"
    }
   ],
   "source": [
    "nodes[0].get_content()"
   ]
  },
  {
   "cell_type": "markdown",
   "metadata": {},
   "source": [
    "### Manually create node"
   ]
  },
  {
   "cell_type": "code",
   "execution_count": 30,
   "metadata": {},
   "outputs": [
    {
     "data": {
      "text/plain": [
       "[TextNode(id_='560ba749-c35f-4736-92f2-b74f46d75b31', embedding=None, metadata={}, excluded_embed_metadata_keys=[], excluded_llm_metadata_keys=[], relationships={}, metadata_template='{key}: {value}', metadata_separator='\\n', text='1th chunk', mimetype='text/plain', start_char_idx=None, end_char_idx=None, metadata_seperator='\\n', text_template='{metadata_str}\\n\\n{content}'),\n",
       " TextNode(id_='f1209f8c-9d51-4200-a9c6-4ee359bfc1ed', embedding=None, metadata={'kind': 'special chunk'}, excluded_embed_metadata_keys=[], excluded_llm_metadata_keys=[], relationships={}, metadata_template='{key}: {value}', metadata_separator='\\n', text='2nd chunk', mimetype='text/plain', start_char_idx=None, end_char_idx=None, metadata_seperator='\\n', text_template='{metadata_str}\\n\\n{content}'),\n",
       " TextNode(id_='13873cec-1735-4973-bc27-31ab1b28708b', embedding=None, metadata={}, excluded_embed_metadata_keys=[], excluded_llm_metadata_keys=[], relationships={}, metadata_template='{key}: {value}', metadata_separator='\\n', text='3rd chunk', mimetype='text/plain', start_char_idx=None, end_char_idx=None, metadata_seperator='\\n', text_template='{metadata_str}\\n\\n{content}')]"
      ]
     },
     "execution_count": 30,
     "metadata": {},
     "output_type": "execute_result"
    }
   ],
   "source": [
    "from llama_index.core.schema import TextNode\n",
    "nodes = [\n",
    "    TextNode(text=\"1th chunk\"),\n",
    "    TextNode(text=\"2nd chunk\", metadata={\"kind\": \"special chunk\"}),\n",
    "    TextNode(text=\"3rd chunk\", id=3),\n",
    "]\n",
    "nodes"
   ]
  }
 ],
 "metadata": {
  "kernelspec": {
   "display_name": "Python 3.11.7 ('venv': venv)",
   "language": "python",
   "name": "python3"
  },
  "language_info": {
   "codemirror_mode": {
    "name": "ipython",
    "version": 3
   },
   "file_extension": ".py",
   "mimetype": "text/x-python",
   "name": "python",
   "nbconvert_exporter": "python",
   "pygments_lexer": "ipython3",
   "version": "3.11.7"
  },
  "orig_nbformat": 4,
  "vscode": {
   "interpreter": {
    "hash": "29b0e7fac241db46251d42ccda13599930addaa78f589d657e65b2641aeb9779"
   }
  }
 },
 "nbformat": 4,
 "nbformat_minor": 2
}
