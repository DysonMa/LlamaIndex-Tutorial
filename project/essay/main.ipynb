{
 "cells": [
  {
   "cell_type": "markdown",
   "metadata": {},
   "source": [
    "## Arvix (論文)\n",
    "\n",
    "- PDF"
   ]
  },
  {
   "cell_type": "code",
   "execution_count": null,
   "metadata": {},
   "outputs": [],
   "source": [
    "%pip install -q llama-index-readers-papers"
   ]
  },
  {
   "cell_type": "code",
   "execution_count": 3,
   "metadata": {},
   "outputs": [],
   "source": [
    "from llama_index.readers.papers import ArxivReader\n",
    "loader = ArxivReader()\n",
    "documents = loader.load_data(\n",
    "    search_query=\"Artificial Intelligence\",\n",
    "    max_results=1,\n",
    ")"
   ]
  },
  {
   "cell_type": "code",
   "execution_count": 4,
   "metadata": {},
   "outputs": [
    {
     "data": {
      "text/plain": [
       "5"
      ]
     },
     "execution_count": 4,
     "metadata": {},
     "output_type": "execute_result"
    }
   ],
   "source": [
    "len(documents)"
   ]
  },
  {
   "cell_type": "code",
   "execution_count": 5,
   "metadata": {},
   "outputs": [
    {
     "data": {
      "text/plain": [
       "{'page_label': '1',\n",
       " 'file_name': '8b6c3b1013c1c0b80b02496fb6556bdb.pdf',\n",
       " 'Title of this paper': 'The Governance of Physical Artificial Intelligence',\n",
       " 'Authors': 'Yingbo Li, Anamaria-Beatrice Spulber, Yucong Duan',\n",
       " 'Date published': '04/06/2023',\n",
       " 'URL': 'http://arxiv.org/abs/2304.02924v1'}"
      ]
     },
     "execution_count": 5,
     "metadata": {},
     "output_type": "execute_result"
    }
   ],
   "source": [
    "documents[0].metadata"
   ]
  },
  {
   "cell_type": "code",
   "execution_count": 6,
   "metadata": {},
   "outputs": [
    {
     "data": {
      "text/plain": [
       "'The Governance of Physical Artiﬁcial Intelligence\\nYingbo Li*1,*, Anamaria-Beatrice Spulber2, and Yucong Duan*3,*\\n1Hainan University\\n2Visionogy\\n3Hainan University\\n*Corresponding author: xslwen@outlook.com, duanyucong@hotmail.com\\nABSTRACT\\nPhysical artiﬁcial intelligence can prove to be one of the most important challenges of the artiﬁcial intelligence. The governance\\nof physical artiﬁcial intelligence would deﬁne its responsible intelligent application in the society.\\nIntroduction\\nArtiﬁcial Intelligence (AI) has grown to be the fundamental technology in today’s world. Over the last few years, not only has\\nAI been popularly applied in typical AI applications of information and signal processing such as Natural Language Processing\\n(NLP), but it has also empowered all the other industries such as healthcare and robotics. Miriyev and Kovac1 proposed to\\ndeﬁne the AI used in Robotics as Physical Artiﬁcial Intelligence (PAI) because PAI interacts with the physical world, contrary\\nto the notion of traditional Digital Artiﬁcial Intelligence (DAI) applied in digital information processing. From this perspective,\\nwe propose to extend the notion of PAI to a much wider domain to also include Internet of Things (IoT), or automatic driving\\ncars. To the best of our knowledge, most research on AI governance is limited to the domain of DAI, so in the present paper we\\npropose to outline the governance framework of PAI.\\nThe application of PAI\\nIn the proposed concept of PAI by Miriyev and Mirko1, PAI refers to the typical robot system. While, we propose to extend the\\nconcept of PAI to cover all potential applications with the built-in AI perceiving and interacting between the cyberspace and the\\nphysical world. Besides the robot system with the AI working in an integrated and limit physical environment, the distributed\\nintelligent system with AI capability is the typical Distributed PAI. As shown in Fig. 1, PAI could be applied in and include\\nmultiple distributed industries, such as IoT, self-driving cars, agriculture, healthcare and logistics.\\nWe propose to classify PAI into two overlapped kinds as shown in Fig. 1: Independent PAI and Distributed PAI. Independent\\nPAI refers to the intelligent device and the robot1. Distributed PAI becomes more and more popular when the edge computing2\\nis mature and every device is connected to the network in the wider space. IoT and edge computing are typical Distributed PAI\\nsubdomains. Since it is popular for every intelligent system to be online and individual units in Distributed PAI have strong\\ncomputing capabilities now, Independent PAI and Distributed PAI will overlap in multiple applications3.\\nThe IoT is a typical distributed system with a spatial distribution that ranges from a small space such as a room to a wider\\narea such as a city. The IoT is formed of various sensors that capture the signals and changes in the physical world. Its AI\\npower could happen in both server side and the edge side. Based on the AI analysis, IoT could directly or indirectly make\\npredictions in the cyberspace to inﬂuence the physical world. For example, a self-driving car needs to ﬁrst perceive real time\\nroad situations and connect to the Internet for navigation, then adjust the driving behavior. The agriculture is one of the most\\nsuccessful PAI applications. The sensors in the agriculture including cameras, temperature meter, hygrometer, etc, monitor the\\ngrowth of the plant and predict, for example, the optimal pesticide intervention and the best harvesting time. In the healthcare\\nindustry, families, nursing homes or hospitals could use the biological sensors and the chemical sensors to monitor a patient\\nand predict potential risks such as falling or unstable situations through a monitoring center. The \"last mile\" is the expensive\\nand hard problem in the logistic industry. A typical distributed AI application could help with delivery tasks through delivery\\nrobots and drones connected to and commanded by the center server. Another example is the automatic sorting robot that has\\nbeen used in the sorting center of the logistics. The general framework of Distributed PAI is described in Fig. 2.\\nDAI mimics the brain capability of logical thinking and induction in human brain, to process the data and signals perceived\\nby human eyes and ears. The human brain is only responsible for processing the signals and transmitting commands to other\\nparts of the body such as movement, vision perception, sound perception, digestion and etc. By comparison, Individual PAI is\\nlike an individual human body, while Distributed PAI further extends the AI capabilities just like the human society is composed\\n1\\narXiv:2304.02924v1  [cs.AI]  6 Apr 2023'"
      ]
     },
     "execution_count": 6,
     "metadata": {},
     "output_type": "execute_result"
    }
   ],
   "source": [
    "documents[0].text"
   ]
  },
  {
   "cell_type": "code",
   "execution_count": null,
   "metadata": {},
   "outputs": [],
   "source": [
    "from llama_index.embeddings.huggingface import HuggingFaceEmbedding\n",
    "from llama_index.core import VectorStoreIndex\n",
    "\n",
    "embed_model = HuggingFaceEmbedding(model_name=\"BAAI/bge-m3\")\n",
    "index = VectorStoreIndex.from_documents(\n",
    "    documents=documents,\n",
    "    embed_model=embed_model\n",
    ")"
   ]
  },
  {
   "cell_type": "code",
   "execution_count": 8,
   "metadata": {},
   "outputs": [],
   "source": [
    "from llama_index.llms.ollama import Ollama\n",
    "llm = Ollama(model=\"llama3.2:3b\", request_timeout=600)"
   ]
  },
  {
   "cell_type": "code",
   "execution_count": 9,
   "metadata": {},
   "outputs": [
    {
     "name": "stdout",
     "output_type": "stream",
     "text": [
      "根據提供的資訊，我可以告訴你：\n",
      "\n",
      "文章的作者： Yingbo Li, Anamaria-Beatrice Spulber, Yucong Duan\n",
      "\n",
      "發布時間：04/06/2023\n",
      "\n",
      "文章大綱：文章討論了物理人工智能（PAI）的治理問題，並提出了一個框架來研究和處理這些問題。\n",
      "\n",
      "根據文章的內容，我們可以看到 PAI 有三種層次：Individual PAI、Distributed PAI 和 DAI。每個層次都有一些獨立的視點：\n",
      "\n",
      "1. **Individual PAI**：這類型的 PAI 是人工智能系統，它以一個人的身體為模板，負責單一功能的執行，例如視覺辨識、聽覺辨識等。\n",
      "2. **Distributed PAI**：這類型的 PAI 是多個個體 PAI 相互連接，形成了一個整體系統。它可以處理大型數據和進行複雜計算機動，例如運輸行業中的自動化工廠等。\n",
      "3. **DAI**（Distributed Artificial Intelligence）：這類型的 PAI 仿佛人類的大腦，可以進行推論、感知和學習。它可以處理多種不同的資料和信號，例如視覺辨識、聽覺辨識等。\n",
      "\n",
      "文章還提到了幾個案例來示現實世界中使用 PAI 的情況，包括農業、醫療和運輸行業等。\n"
     ]
    }
   ],
   "source": [
    "query_engine = index.as_query_engine(llm=llm)\n",
    "response = query_engine.query(\"請告訴我文章的作者是誰、發布時間以及文章大綱，並詳細列點解釋文章的各個觀點\")\n",
    "\n",
    "print(response)"
   ]
  },
  {
   "cell_type": "code",
   "execution_count": 10,
   "metadata": {},
   "outputs": [
    {
     "name": "stdout",
     "output_type": "stream",
     "text": [
      "Final Response: 根據提供的資訊，我可以告訴你：  文章的作者： Yingbo Li, Anamaria-Beatrice\n",
      "Spulber, Yucong Duan  發布時間：04/06/2023\n",
      "文章大綱：文章討論了物理人工智能（PAI）的治理問題，並提出了一個框架來研究和處理這些問題。  根據文章的內容，我們可以看到 PAI\n",
      "有三種層次：Individual PAI、Distributed PAI 和 DAI。每個層次都有一些獨立的視點：  1.\n",
      "**Individual PAI**：這類型的 PAI\n",
      "是人工智能系統，它以一個人的身體為模板，負責單一功能的執行，例如視覺辨識、聽覺辨識等。 2. **Distributed\n",
      "PAI**：這類型的 PAI 是多個個體 PAI\n",
      "相互連接，形成了一個整體系統。它可以處理大型數據和進行複雜計算機動，例如運輸行業中的自動化工廠等。 3.\n",
      "**DAI**（Distributed Artificial Intelligence）：這類型的 PAI\n",
      "仿佛人類的大腦，可以進行推論、感知和學習。它可以處理多種不同的資料和信號，例如視覺辨識、聽覺辨識等。\n",
      "文章還提到了幾個案例來示現實世界中使用 PAI 的情況，包括農業、醫療和運輸行業等。\n"
     ]
    }
   ],
   "source": [
    "from llama_index.core.response.pprint_utils import pprint_response\n",
    "pprint_response(response)"
   ]
  },
  {
   "cell_type": "code",
   "execution_count": 11,
   "metadata": {},
   "outputs": [
    {
     "data": {
      "text/plain": [
       "Response(response='根據提供的資訊，我可以告訴你：\\n\\n文章的作者： Yingbo Li, Anamaria-Beatrice Spulber, Yucong Duan\\n\\n發布時間：04/06/2023\\n\\n文章大綱：文章討論了物理人工智能（PAI）的治理問題，並提出了一個框架來研究和處理這些問題。\\n\\n根據文章的內容，我們可以看到 PAI 有三種層次：Individual PAI、Distributed PAI 和 DAI。每個層次都有一些獨立的視點：\\n\\n1. **Individual PAI**：這類型的 PAI 是人工智能系統，它以一個人的身體為模板，負責單一功能的執行，例如視覺辨識、聽覺辨識等。\\n2. **Distributed PAI**：這類型的 PAI 是多個個體 PAI 相互連接，形成了一個整體系統。它可以處理大型數據和進行複雜計算機動，例如運輸行業中的自動化工廠等。\\n3. **DAI**（Distributed Artificial Intelligence）：這類型的 PAI 仿佛人類的大腦，可以進行推論、感知和學習。它可以處理多種不同的資料和信號，例如視覺辨識、聽覺辨識等。\\n\\n文章還提到了幾個案例來示現實世界中使用 PAI 的情況，包括農業、醫療和運輸行業等。', source_nodes=[NodeWithScore(node=TextNode(id_='de3b67e8-e24b-4432-83bc-84d59523b2f4', embedding=None, metadata={'page_label': '4', 'file_name': '8b6c3b1013c1c0b80b02496fb6556bdb.pdf', 'Title of this paper': 'The Governance of Physical Artificial Intelligence', 'Authors': 'Yingbo Li, Anamaria-Beatrice Spulber, Yucong Duan', 'Date published': '04/06/2023', 'URL': 'http://arxiv.org/abs/2304.02924v1'}, excluded_embed_metadata_keys=['file_name', 'file_type', 'file_size', 'creation_date', 'last_modified_date', 'last_accessed_date'], excluded_llm_metadata_keys=['file_name', 'file_type', 'file_size', 'creation_date', 'last_modified_date', 'last_accessed_date'], relationships={<NodeRelationship.SOURCE: '1'>: RelatedNodeInfo(node_id='595de328-464f-40b2-8e42-730e4aa88069', node_type='4', metadata={'page_label': '4', 'file_name': '8b6c3b1013c1c0b80b02496fb6556bdb.pdf', 'Title of this paper': 'The Governance of Physical Artificial Intelligence', 'Authors': 'Yingbo Li, Anamaria-Beatrice Spulber, Yucong Duan', 'Date published': '04/06/2023', 'URL': 'http://arxiv.org/abs/2304.02924v1'}, hash='10f46608860b71f66c119834fe9df1f385da8efffea5a097f15ced84adb47fa5')}, metadata_template='{key}: {value}', metadata_separator='\\n', text='Figure 3. PAI governance problems\\nframework of governance problems of PAI however this is open to further discussions since it is a research topic applying not\\nonly to the research but also the development of the whole human society.\\nReferences\\n1. Miriyev, Aslan, and Mirko Kovaˇc. \"Skills for physical artiﬁcial intelligence.\" Nature Machine Intelligence 2.11 (2020):\\n658-660.\\n2. Satyanarayanan, Mahadev. \"How we created edge computing.\" Nature Electronics 2.1 (2019): 42-42.\\n3. Vinuesa, Ricardo, et al. \"The role of artiﬁcial intelligence in achieving the Sustainable Development Goals.\" Nature\\ncommunications 11.1 (2020): 1-10.\\n4. Margetts, Helen, and Cosmina Dorobantu. \"Rethink government with AI.\" Nature (2019): 163-165.\\n4/4', mimetype='text/plain', start_char_idx=0, end_char_idx=731, metadata_seperator='\\n', text_template='{metadata_str}\\n\\n{content}'), score=0.41768885927433375), NodeWithScore(node=TextNode(id_='04e3c906-542f-4a9d-a5be-c352ed036554', embedding=None, metadata={'page_label': '1', 'file_name': '8b6c3b1013c1c0b80b02496fb6556bdb.pdf', 'Title of this paper': 'The Governance of Physical Artificial Intelligence', 'Authors': 'Yingbo Li, Anamaria-Beatrice Spulber, Yucong Duan', 'Date published': '04/06/2023', 'URL': 'http://arxiv.org/abs/2304.02924v1'}, excluded_embed_metadata_keys=['file_name', 'file_type', 'file_size', 'creation_date', 'last_modified_date', 'last_accessed_date'], excluded_llm_metadata_keys=['file_name', 'file_type', 'file_size', 'creation_date', 'last_modified_date', 'last_accessed_date'], relationships={<NodeRelationship.SOURCE: '1'>: RelatedNodeInfo(node_id='46301bed-db79-4a27-aaa0-e7895a0590af', node_type='4', metadata={'page_label': '1', 'file_name': '8b6c3b1013c1c0b80b02496fb6556bdb.pdf', 'Title of this paper': 'The Governance of Physical Artificial Intelligence', 'Authors': 'Yingbo Li, Anamaria-Beatrice Spulber, Yucong Duan', 'Date published': '04/06/2023', 'URL': 'http://arxiv.org/abs/2304.02924v1'}, hash='119a20f191e831810eebbec03f25494e95f6e95a26476add2302ed06a0b3691b'), <NodeRelationship.PREVIOUS: '2'>: RelatedNodeInfo(node_id='e234a4c3-93af-458b-a0f2-79ffe3a67e0a', node_type='1', metadata={'page_label': '1', 'file_name': '8b6c3b1013c1c0b80b02496fb6556bdb.pdf', 'Title of this paper': 'The Governance of Physical Artificial Intelligence', 'Authors': 'Yingbo Li, Anamaria-Beatrice Spulber, Yucong Duan', 'Date published': '04/06/2023', 'URL': 'http://arxiv.org/abs/2304.02924v1'}, hash='e038818b15d232cf496ad1410dbeaccf4eb0bb5e061c9970bb78425a1dc59de1')}, metadata_template='{key}: {value}', metadata_separator='\\n', text='The sensors in the agriculture including cameras, temperature meter, hygrometer, etc, monitor the\\ngrowth of the plant and predict, for example, the optimal pesticide intervention and the best harvesting time. In the healthcare\\nindustry, families, nursing homes or hospitals could use the biological sensors and the chemical sensors to monitor a patient\\nand predict potential risks such as falling or unstable situations through a monitoring center. The \"last mile\" is the expensive\\nand hard problem in the logistic industry. A typical distributed AI application could help with delivery tasks through delivery\\nrobots and drones connected to and commanded by the center server. Another example is the automatic sorting robot that has\\nbeen used in the sorting center of the logistics. The general framework of Distributed PAI is described in Fig. 2.\\nDAI mimics the brain capability of logical thinking and induction in human brain, to process the data and signals perceived\\nby human eyes and ears. The human brain is only responsible for processing the signals and transmitting commands to other\\nparts of the body such as movement, vision perception, sound perception, digestion and etc. By comparison, Individual PAI is\\nlike an individual human body, while Distributed PAI further extends the AI capabilities just like the human society is composed\\n1\\narXiv:2304.02924v1  [cs.AI]  6 Apr 2023', mimetype='text/plain', start_char_idx=3316, end_char_idx=4705, metadata_seperator='\\n', text_template='{metadata_str}\\n\\n{content}'), score=0.41164573939444593)], metadata={'de3b67e8-e24b-4432-83bc-84d59523b2f4': {'page_label': '4', 'file_name': '8b6c3b1013c1c0b80b02496fb6556bdb.pdf', 'Title of this paper': 'The Governance of Physical Artificial Intelligence', 'Authors': 'Yingbo Li, Anamaria-Beatrice Spulber, Yucong Duan', 'Date published': '04/06/2023', 'URL': 'http://arxiv.org/abs/2304.02924v1'}, '04e3c906-542f-4a9d-a5be-c352ed036554': {'page_label': '1', 'file_name': '8b6c3b1013c1c0b80b02496fb6556bdb.pdf', 'Title of this paper': 'The Governance of Physical Artificial Intelligence', 'Authors': 'Yingbo Li, Anamaria-Beatrice Spulber, Yucong Duan', 'Date published': '04/06/2023', 'URL': 'http://arxiv.org/abs/2304.02924v1'}})"
      ]
     },
     "execution_count": 11,
     "metadata": {},
     "output_type": "execute_result"
    }
   ],
   "source": [
    "response"
   ]
  },
  {
   "cell_type": "code",
   "execution_count": 12,
   "metadata": {},
   "outputs": [
    {
     "data": {
      "text/plain": [
       "NodeWithScore(node=TextNode(id_='de3b67e8-e24b-4432-83bc-84d59523b2f4', embedding=None, metadata={'page_label': '4', 'file_name': '8b6c3b1013c1c0b80b02496fb6556bdb.pdf', 'Title of this paper': 'The Governance of Physical Artificial Intelligence', 'Authors': 'Yingbo Li, Anamaria-Beatrice Spulber, Yucong Duan', 'Date published': '04/06/2023', 'URL': 'http://arxiv.org/abs/2304.02924v1'}, excluded_embed_metadata_keys=['file_name', 'file_type', 'file_size', 'creation_date', 'last_modified_date', 'last_accessed_date'], excluded_llm_metadata_keys=['file_name', 'file_type', 'file_size', 'creation_date', 'last_modified_date', 'last_accessed_date'], relationships={<NodeRelationship.SOURCE: '1'>: RelatedNodeInfo(node_id='595de328-464f-40b2-8e42-730e4aa88069', node_type='4', metadata={'page_label': '4', 'file_name': '8b6c3b1013c1c0b80b02496fb6556bdb.pdf', 'Title of this paper': 'The Governance of Physical Artificial Intelligence', 'Authors': 'Yingbo Li, Anamaria-Beatrice Spulber, Yucong Duan', 'Date published': '04/06/2023', 'URL': 'http://arxiv.org/abs/2304.02924v1'}, hash='10f46608860b71f66c119834fe9df1f385da8efffea5a097f15ced84adb47fa5')}, metadata_template='{key}: {value}', metadata_separator='\\n', text='Figure 3. PAI governance problems\\nframework of governance problems of PAI however this is open to further discussions since it is a research topic applying not\\nonly to the research but also the development of the whole human society.\\nReferences\\n1. Miriyev, Aslan, and Mirko Kovaˇc. \"Skills for physical artiﬁcial intelligence.\" Nature Machine Intelligence 2.11 (2020):\\n658-660.\\n2. Satyanarayanan, Mahadev. \"How we created edge computing.\" Nature Electronics 2.1 (2019): 42-42.\\n3. Vinuesa, Ricardo, et al. \"The role of artiﬁcial intelligence in achieving the Sustainable Development Goals.\" Nature\\ncommunications 11.1 (2020): 1-10.\\n4. Margetts, Helen, and Cosmina Dorobantu. \"Rethink government with AI.\" Nature (2019): 163-165.\\n4/4', mimetype='text/plain', start_char_idx=0, end_char_idx=731, metadata_seperator='\\n', text_template='{metadata_str}\\n\\n{content}'), score=0.41768885927433375)"
      ]
     },
     "execution_count": 12,
     "metadata": {},
     "output_type": "execute_result"
    }
   ],
   "source": [
    "response.source_nodes[0]"
   ]
  },
  {
   "cell_type": "code",
   "execution_count": null,
   "metadata": {},
   "outputs": [],
   "source": []
  }
 ],
 "metadata": {
  "kernelspec": {
   "display_name": "Python 3.11.7 ('venv': venv)",
   "language": "python",
   "name": "python3"
  },
  "language_info": {
   "codemirror_mode": {
    "name": "ipython",
    "version": 3
   },
   "file_extension": ".py",
   "mimetype": "text/x-python",
   "name": "python",
   "nbconvert_exporter": "python",
   "pygments_lexer": "ipython3",
   "version": "3.11.7"
  },
  "orig_nbformat": 4,
  "vscode": {
   "interpreter": {
    "hash": "b84dcaefd5fa636f09b139b333fa7f16c37fa121b6c753c747a42c472c0b7eab"
   }
  }
 },
 "nbformat": 4,
 "nbformat_minor": 2
}
