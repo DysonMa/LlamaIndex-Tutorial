{
 "cells": [
  {
   "cell_type": "markdown",
   "metadata": {},
   "source": [
    "## Chat"
   ]
  },
  {
   "cell_type": "markdown",
   "metadata": {},
   "source": [
    "### Load the index"
   ]
  },
  {
   "cell_type": "code",
   "execution_count": null,
   "metadata": {},
   "outputs": [],
   "source": [
    "### Define the embedding\n",
    "from llama_index.embeddings.huggingface import HuggingFaceEmbedding\n",
    "embed_model = HuggingFaceEmbedding(model_name=\"BAAI/bge-m3\")"
   ]
  },
  {
   "cell_type": "code",
   "execution_count": 2,
   "metadata": {},
   "outputs": [],
   "source": [
    "from llama_index.core import Settings, SimpleDirectoryReader\n",
    "from llama_index.core import VectorStoreIndex, StorageContext, load_index_from_storage\n",
    "\n",
    "documents = SimpleDirectoryReader(input_dir=\"../data/json/\").load_data()\n",
    "\n",
    "storage_path = \"./chat_storage/\"\n",
    "\n",
    "# Persist into local disk\n",
    "index = VectorStoreIndex.from_documents(\n",
    "    documents,\n",
    "    embed_model=embed_model\n",
    ")\n",
    "index.storage_context.persist(persist_dir=storage_path)"
   ]
  },
  {
   "cell_type": "code",
   "execution_count": 3,
   "metadata": {},
   "outputs": [],
   "source": [
    "### Use Ollama\n",
    "from llama_index.llms.ollama import Ollama\n",
    "llm = Ollama(model=\"llama3.2:3b\", request_timeout=600.0)"
   ]
  },
  {
   "cell_type": "code",
   "execution_count": 4,
   "metadata": {},
   "outputs": [],
   "source": [
    "from llama_index.core.chat_engine.types import ChatMode\n",
    "chat_engine = index.as_chat_engine(chat_mode=ChatMode.CONDENSE_PLUS_CONTEXT,llm=llm)"
   ]
  },
  {
   "cell_type": "code",
   "execution_count": 5,
   "metadata": {},
   "outputs": [
    {
     "data": {
      "text/plain": [
       "<llama_index.core.chat_engine.condense_plus_context.CondensePlusContextChatEngine at 0x16630f290>"
      ]
     },
     "execution_count": 5,
     "metadata": {},
     "output_type": "execute_result"
    }
   ],
   "source": [
    "chat_engine"
   ]
  },
  {
   "cell_type": "code",
   "execution_count": 6,
   "metadata": {},
   "outputs": [],
   "source": [
    "response = chat_engine.chat(\"NVIDIA 股價創新高有什麼影響？\")"
   ]
  },
  {
   "cell_type": "code",
   "execution_count": null,
   "metadata": {},
   "outputs": [],
   "source": [
    "response"
   ]
  },
  {
   "cell_type": "markdown",
   "metadata": {},
   "source": [
    "Streaming Response"
   ]
  },
  {
   "cell_type": "code",
   "execution_count": 8,
   "metadata": {},
   "outputs": [
    {
     "name": "stdout",
     "output_type": "stream",
     "text": [
      "根據文件中的資訊，NVIDIA 股價創新高將推動標準普爾 500 指數 (.SPX) 上漲 0.8%，創下新高。这意味著 NVIDIA 的股價上漲對標準普爾 500 指數的影響是非常顯著的。"
     ]
    }
   ],
   "source": [
    "streaming_response = chat_engine.stream_chat(\"NVIDIA 股價創新高有什麼影響？\")\n",
    "for token in streaming_response.response_gen:\n",
    "    print(token, end=\"\")"
   ]
  },
  {
   "cell_type": "markdown",
   "metadata": {},
   "source": [
    "Validate if the chat history really matters"
   ]
  },
  {
   "cell_type": "code",
   "execution_count": 9,
   "metadata": {},
   "outputs": [
    {
     "name": "stdout",
     "output_type": "stream",
     "text": [
      "根據文件中的資訊，台湾半导体公司（2330.TW）作为NVIDIA的合同生产商，预计将于周四报告季度利润增长40%。这得益于需求激增。"
     ]
    }
   ],
   "source": [
    "streaming_response = chat_engine.stream_chat(\"台灣半導體公司會受到什麼影響嗎\")\n",
    "for token in streaming_response.response_gen:\n",
    "    print(token, end=\"\")"
   ]
  },
  {
   "cell_type": "code",
   "execution_count": 10,
   "metadata": {},
   "outputs": [
    {
     "name": "stdout",
     "output_type": "stream",
     "text": [
      "Role:  MessageRole.USER\n",
      "Content:  NVIDIA 股價創新高有什麼影響？\n",
      "--------------------------------------------------\n",
      "Role:  MessageRole.ASSISTANT\n",
      "Content:  根據文件中的資訊，NVIDIA 股價創新高將使該公司的市值達到 3.39 兆美元，略低於 Apple 的 3.52 兆美元，且高於微軟的 3.12 兆美元。這意味著 NVIDIA 股價上漲對標準普爾 500 指數 (.SPX) 的影響將重大。\n",
      "\n",
      "文件還提到，NVIDIA 在八月確認其即將推出的 Blackwell 芯片的生產提升將推遲至第四季，但公司淡化了此消息的影響。儘管如此，投資者對於 NVIDIA 的當前及下一代 AI 處理器的需求充滿信心，使該公司股價上漲並創新高。\n",
      "\n",
      "另外，NVIDIA、Apple 和微軟合計約占標準普爾 500 指數的五分之一，因此其日常漲跌具有重大影響。\n",
      "--------------------------------------------------\n",
      "Role:  MessageRole.USER\n",
      "Content:  NVIDIA 股價創新高有什麼影響？\n",
      "--------------------------------------------------\n",
      "Role:  MessageRole.ASSISTANT\n",
      "Content:  根據文件中的資訊，NVIDIA 股價創新高將推動標準普爾 500 指數 (.SPX) 上漲 0.8%，創下新高。这意味著 NVIDIA 的股價上漲對標準普爾 500 指數的影響是非常顯著的。\n",
      "--------------------------------------------------\n",
      "Role:  MessageRole.USER\n",
      "Content:  台灣半導體公司會受到什麼影響嗎\n",
      "--------------------------------------------------\n",
      "Role:  MessageRole.ASSISTANT\n",
      "Content:  根據文件中的資訊，台湾半导体公司（2330.TW）作为NVIDIA的合同生产商，预计将于周四报告季度利润增长40%。这得益于需求激增。\n",
      "--------------------------------------------------\n"
     ]
    }
   ],
   "source": [
    "for each in chat_engine.chat_history:\n",
    "    print(\"Role: \", each.role)\n",
    "    print(\"Content: \", each.content)\n",
    "    print(\"-\"*50)"
   ]
  },
  {
   "cell_type": "code",
   "execution_count": 11,
   "metadata": {},
   "outputs": [
    {
     "name": "stdout",
     "output_type": "stream",
     "text": [
      "[]\n"
     ]
    }
   ],
   "source": [
    "# Clear chat history\n",
    "chat_engine.chat_history.clear()\n",
    "print(chat_engine.chat_history)"
   ]
  }
 ],
 "metadata": {
  "kernelspec": {
   "display_name": "Python 3.11.7 ('venv': venv)",
   "language": "python",
   "name": "python3"
  },
  "language_info": {
   "codemirror_mode": {
    "name": "ipython",
    "version": 3
   },
   "file_extension": ".py",
   "mimetype": "text/x-python",
   "name": "python",
   "nbconvert_exporter": "python",
   "pygments_lexer": "ipython3",
   "version": "3.11.7"
  },
  "orig_nbformat": 4,
  "vscode": {
   "interpreter": {
    "hash": "b84dcaefd5fa636f09b139b333fa7f16c37fa121b6c753c747a42c472c0b7eab"
   }
  }
 },
 "nbformat": 4,
 "nbformat_minor": 2
}
